{
 "cells": [
  {
   "cell_type": "markdown",
   "metadata": {},
   "source": [
    "<h2>Data Challenge</h2>\n",
    "<h4>Herbert Xuebin Huang"
   ]
  },
  {
   "cell_type": "markdown",
   "metadata": {},
   "source": [
    "NYC MTA Turnstile Usage Dataset\n",
    "dataset is as followed:\n",
    "http://web.mta.info/developers/turnstile.html"
   ]
  },
  {
   "cell_type": "code",
   "execution_count": null,
   "metadata": {
    "collapsed": true
   },
   "outputs": [],
   "source": []
  },
  {
   "cell_type": "markdown",
   "metadata": {},
   "source": [
    "In order to improve time efficiency, this project uses intensively the mapping functions. It took less than 5 minutes to preprocess 'ALL' the data for 2013!!!\n",
    "<br><br>\n",
    "\"The expected time for you to run all this code from top to bottom will be 5-8 minutes\"\n",
    "<br>\n",
    "<br>This project consists four parts:\n",
    "<br>Step 0. Assumption & Definition\n",
    "<br>Step 1. Basic Functions & Preparation\n",
    "<br>Step 2. Data Analysis\n",
    "<br>Step 3. Data Visualization"
   ]
  },
  {
   "cell_type": "code",
   "execution_count": null,
   "metadata": {
    "collapsed": true
   },
   "outputs": [],
   "source": []
  },
  {
   "cell_type": "markdown",
   "metadata": {},
   "source": [
    "<h2>Step 0. Assumption & Definition</h2>\n",
    "<br>1. When there is no record for a certain turnstile, I will assume the number of entries & exists is zero on that day.\n",
    "<br>\n",
    "<br>2. There are some unexpected 'errors' with the cumulative count of some turnstiles. When calculating the entries & exits count for a turnstile on one day, if the number is beyond the range of 0 and 50,000, we will remove the last record until it falls into this range. \n",
    "<br>For example: (In this project, for the following case, the number of entries will be: 002019594 - 002019594 = 0; and the number of exits will be: 000200679 - 000200663 = 16, namely, the last record will be removed)\n",
    "<br>\n",
    "<br>('01-05-13', '07:00:00', 'REGULAR', '002019594', '000200663'),\n",
    "<br>('01-05-13', '08:25:22', 'DOOR OPEN', '002019594', '000200673'),\n",
    "<br>('01-05-13', '08:42:45', 'LOGON', '002019594', '000200673'),\n",
    "<br>('01-05-13', '08:46:03', 'LGF-MAN', '002019594', '000200673'),\n",
    "<br>('01-05-13', '08:46:31', 'LOGON', '002019594', '000200673'),\n",
    "<br>('01-05-13', '09:24:40', 'DOOR OPEN', '002019594', '000200679'),\n",
    "<br>('01-05-13', '09:42:29', 'DOOR CLOSE', '000000000', '000000002'),\n",
    "<br>\n",
    "<br>3. For the row counts in the data visualization part. Since each row in the text file contains multiple dates, it might not be meaningful enough to calculate the row counts in this way. Therefore, I would prefer consider each record as a seperate row. <br>For example: (In the data file, the following is one row, but in this project, I will treat them as eight rows.)\n",
    "<br>\n",
    "<br>A002,R051,02-00-00,<br>07-27-13,00:00:00,REGULAR,004209603,001443585,<br>07-27-13,04:00:00,REGULAR,004209643,001443593,<br>07-27-13,08:00:00,REGULAR,004209663,001443616,<br>07-27-13,12:00:00,REGULAR,004209741,001443687,<br>07-27-13,16:00:00,REGULAR,004210004,001443740,<br>07-27-13,20:00:00,REGULAR,004210276,001443777,<br>07-28-13,00:00:00,REGULAR,004210432,001443801,<br>07-28-13,04:00:00,REGULAR,004210472,001443805 "
   ]
  },
  {
   "cell_type": "code",
   "execution_count": null,
   "metadata": {
    "collapsed": true
   },
   "outputs": [],
   "source": []
  },
  {
   "cell_type": "markdown",
   "metadata": {},
   "source": [
    "<h2>Step 1. Basic Functions & Preparation"
   ]
  },
  {
   "cell_type": "code",
   "execution_count": 1,
   "metadata": {
    "collapsed": true
   },
   "outputs": [],
   "source": [
    "import requests\n",
    "from bs4 import BeautifulSoup\n",
    "import re\n",
    "import itertools\n",
    "from functools import reduce\n",
    "import pandas as pd\n",
    "import xlrd\n",
    "from datetime import datetime\n",
    "import datetime as dt\n",
    "import time\n",
    "import matplotlib.pyplot as plt\n",
    "import numpy as np\n",
    "import pylab"
   ]
  },
  {
   "cell_type": "code",
   "execution_count": 2,
   "metadata": {
    "collapsed": false
   },
   "outputs": [],
   "source": [
    "#Connect to url and get the names list for the data files\n",
    "url = \"http://web.mta.info/developers/turnstile.html\"\n",
    "response=requests.get(url)\n",
    "raw_data = BeautifulSoup(response.content, 'lxml')\n",
    "data_list = raw_data.find_all('div', {'class': \"span-84 last\"})\n",
    "for tag in data_list:\n",
    "    name_list = tag.find_all('a')"
   ]
  },
  {
   "cell_type": "code",
   "execution_count": 3,
   "metadata": {
    "collapsed": true
   },
   "outputs": [],
   "source": [
    "#We are only interested in the newest data and those in 2013\n",
    "href_today = name_list[0].get('href')\n",
    "\n",
    "href_2013 = list(filter(lambda x: x[-10:-8]=='13', map(lambda x: x.get('href'), name_list)))\n",
    "\n",
    "href_2013 += list(filter(lambda x: x[-10:-4]=='140104', map(lambda x: x.get('href'), name_list)))\n",
    "\n",
    "href_2013 = sorted(href_2013)"
   ]
  },
  {
   "cell_type": "code",
   "execution_count": 4,
   "metadata": {
    "collapsed": false
   },
   "outputs": [],
   "source": [
    "date_list = sorted(list(map(lambda x: datetime.strptime(x[-10:-4], '%y%m%d'), href_2013)))"
   ]
  },
  {
   "cell_type": "code",
   "execution_count": 5,
   "metadata": {
    "collapsed": false
   },
   "outputs": [],
   "source": [
    "date_2013 = [datetime(2013,1,1) + dt.timedelta(i) for i in range(365)]"
   ]
  },
  {
   "cell_type": "code",
   "execution_count": 6,
   "metadata": {
    "collapsed": true
   },
   "outputs": [],
   "source": [
    "date_2013_Q1 = date_2013[0:90]\n",
    "date_2013_Q2 = date_2013[90:181]\n",
    "date_2013_Q3 = date_2013[181:273]\n",
    "date_2013_Q4 = date_2013[273:]"
   ]
  },
  {
   "cell_type": "code",
   "execution_count": 7,
   "metadata": {
    "collapsed": true
   },
   "outputs": [],
   "source": [
    "def formatting(a):\n",
    "    b=list()\n",
    "    for i in range(int(0.5*len(a))):\n",
    "        b.append(tuple((a[2*i]+a[2*i+1]).split(',')[0:5]))\n",
    "    return b"
   ]
  },
  {
   "cell_type": "code",
   "execution_count": 8,
   "metadata": {
    "collapsed": false
   },
   "outputs": [],
   "source": [
    "def diff(a):\n",
    "    try:\n",
    "        n = len(a)-1\n",
    "        ans = a[n] - a[0]    \n",
    "        while ans<0 or ans>50000:\n",
    "            n -= 1\n",
    "            ans = a[n] - a[0]\n",
    "    except: \n",
    "        ans = 0\n",
    "    return ans"
   ]
  },
  {
   "cell_type": "code",
   "execution_count": 9,
   "metadata": {
    "collapsed": false
   },
   "outputs": [],
   "source": [
    "def data_counting(my_data, date):\n",
    "    str_date = datetime.strftime(date, '%m-%d-%y')\n",
    "    my_filter_data = list(map(lambda x: (x[0], \\\n",
    "                        list(filter(lambda y: y[0]==str_date, x[1]))), my_data))\n",
    "\n",
    "    my_counting_data = list(map(lambda x: (x[0], list(map(lambda y: int(y[3]), x[1])), \\\n",
    "                        list(map(lambda y: int(y[4]), x[1]))), my_filter_data))\n",
    "\n",
    "    my_count = list(map(lambda x: (x[0], diff(x[1])+diff(x[2]), len(x[1])), my_counting_data))\n",
    "\n",
    "    return my_count\n",
    "\n",
    "def data_generating(my_href):\n",
    "    tic = time.clock()\n",
    "    my_date = datetime.strptime(my_href[-10:-4], '%y%m%d')    \n",
    "    href_date_list = list()\n",
    "    if my_date==date_list[0]:\n",
    "        date_to_add = datetime(2012, 12, 29, 0, 0)\n",
    "    else:\n",
    "        date_to_add = date_list[date_list.index(my_date)-1]\n",
    "    while date_to_add < my_date:\n",
    "        href_date_list.append(date_to_add)\n",
    "        date_to_add += dt.timedelta(1)\n",
    "    \n",
    "    my_url = 'http://web.mta.info/developers/' + my_href\n",
    "    response = requests.get(my_url)\n",
    "    my_raw_data = BeautifulSoup(response.content, 'lxml')\n",
    "    data_1 = [x.strip() for x in my_raw_data.getText().split('\\n')]\n",
    "\n",
    "    #Remove the empty element(the last one)\n",
    "    try: data_1.remove('')\n",
    "    except: pass\n",
    "    \n",
    "    data_2 = list(map(lambda x: (x[0], x[1:]), map(lambda x: re.split(r\"(\\w+-\\w+-\\w+,\\w+:\\w+:\\w+)\",x), data_1)))\n",
    "    data_3 = list(map(lambda x: (tuple(x[0].split(',')[0:3]),formatting(x[1])) ,data_2))\n",
    "    \n",
    "    data_4 = list(map(lambda x: (x[0], list(itertools.chain(*map(lambda y: y[1], x[1])))), \\\n",
    "         itertools.groupby(sorted(data_3, key=lambda x: x[0]), lambda x: x[0])))  \n",
    "   \n",
    "    my_count = list(map(lambda date: (date, data_counting(data_4, date)), href_date_list))\n",
    "    toc = time.clock()\n",
    "    #print('Time elapse:', toc-tic)\n",
    "    return my_count"
   ]
  },
  {
   "cell_type": "code",
   "execution_count": null,
   "metadata": {
    "collapsed": true
   },
   "outputs": [],
   "source": []
  },
  {
   "cell_type": "markdown",
   "metadata": {},
   "source": [
    "<h3> Step 1.1. Generate all the data for 2013 (takes around 3-5 minutes)"
   ]
  },
  {
   "cell_type": "code",
   "execution_count": 10,
   "metadata": {
    "collapsed": false,
    "scrolled": true
   },
   "outputs": [],
   "source": [
    "my_2013_raw_data = list()\n",
    "for i in href_2013:\n",
    "    my_2013_raw_data += data_generating(i)"
   ]
  },
  {
   "cell_type": "code",
   "execution_count": 11,
   "metadata": {
    "collapsed": true
   },
   "outputs": [],
   "source": [
    "my_2013_data = list(filter(lambda x: x[0] in date_2013, my_2013_raw_data))"
   ]
  },
  {
   "cell_type": "code",
   "execution_count": null,
   "metadata": {
    "collapsed": true
   },
   "outputs": [],
   "source": []
  },
  {
   "cell_type": "markdown",
   "metadata": {},
   "source": [
    "<h3>Step 1.2. Generate the dictionary to convert units to stations"
   ]
  },
  {
   "cell_type": "code",
   "execution_count": 12,
   "metadata": {
    "collapsed": false
   },
   "outputs": [
    {
     "name": "stdout",
     "output_type": "stream",
     "text": [
      "4619\n",
      "736\n"
     ]
    }
   ],
   "source": [
    "#Overall there are 4619 turnstiles in 2013\n",
    "unique_turnstile = list(map(lambda date: list(map(lambda x: x[0], date[1])), my_2013_data))\n",
    "unique_turnstile = set(itertools.chain(*unique_turnstile))\n",
    "print(len(unique_turnstile))\n",
    "\n",
    "#Overall there are 736 units in 2013\n",
    "unique_unit = set(list(map(lambda x: x[0:2], unique_turnstile)))\n",
    "print(len(unique_unit))"
   ]
  },
  {
   "cell_type": "code",
   "execution_count": 13,
   "metadata": {
    "collapsed": true
   },
   "outputs": [],
   "source": [
    "station_df = pd.read_excel('http://web.mta.info/developers/resources/nyct/turnstile/Remote-Booth-Station.xls')\n",
    "\n",
    "#Create a dictionary to convert turnstiles to their coresponding stations\n",
    "station_list = list(station_df.apply(lambda x: {(x[1],x[0]): x[2]}, axis=1))\n",
    "station_dic = dict()\n",
    "for i in station_list:\n",
    "    station_dic.update(i)"
   ]
  },
  {
   "cell_type": "code",
   "execution_count": 14,
   "metadata": {
    "collapsed": false
   },
   "outputs": [
    {
     "name": "stdout",
     "output_type": "stream",
     "text": [
      "('R101', 'R001')\n",
      "('R612', 'R057')\n",
      "('A081', 'R028')\n",
      "('N330', 'R202')\n",
      "('A082', 'R028')\n",
      "('LGA02', 'R538')\n",
      "('A049', 'R088')\n",
      "('A077', 'R028')\n",
      "('N098', 'R028')\n",
      "('R169', 'R168')\n"
     ]
    }
   ],
   "source": [
    "#There are ten units missing in the Excel station dictionary file\n",
    "#We need to manually search them\n",
    "for i in unique_unit:\n",
    "    if i not in station_dic:\n",
    "        print(i)"
   ]
  },
  {
   "cell_type": "code",
   "execution_count": 15,
   "metadata": {
    "collapsed": true
   },
   "outputs": [],
   "source": [
    "#Fill out the missing values\n",
    "extension_dic=dict()\n",
    "\n",
    "extension_dic[('A077', 'R028')] = 'FULTON ST'\n",
    "extension_dic[('A081', 'R028')] = 'FULTON ST'\n",
    "extension_dic[('A082', 'R028')] = 'FULTON ST'\n",
    "extension_dic[('N098', 'R028')] = 'FULTON ST'\n",
    "extension_dic[('N330', 'R202')] = '63 DR-REGO PARK'\n",
    "extension_dic[('R101', 'R001')] = 'SOUTH FERRY'\n",
    "extension_dic[('R169', 'R168')] = '96 ST'\n",
    "extension_dic[('R612', 'R057')] = 'ATLANTIC AVE'\n",
    "extension_dic[('A049', 'R088')]= 'CORTLANDT ST'\n",
    "extension_dic[('LGA02', 'R538')]= 'LGA AIRPORT CTB'\n",
    "\n",
    "#Update the dictionary\n",
    "station_dic.update(extension_dic)"
   ]
  },
  {
   "cell_type": "code",
   "execution_count": 16,
   "metadata": {
    "collapsed": false
   },
   "outputs": [
    {
     "name": "stdout",
     "output_type": "stream",
     "text": [
      "384\n"
     ]
    }
   ],
   "source": [
    "#Overall there are 384 units in 2013\n",
    "station_turnstile_list = list(map(lambda x: (station_dic[x[0:2]],x), unique_turnstile))\n",
    "\n",
    "station_turnstile_list = list(map(lambda x: (x[0],list(map(lambda y: y[1], x[1]))),\\\n",
    "       itertools.groupby(sorted(station_turnstile_list, key=lambda x:x[0]), lambda x:x[0])))\n",
    "\n",
    "unique_station = list(map(lambda x:x[0], station_turnstile_list))\n",
    "print(len(unique_station))"
   ]
  },
  {
   "cell_type": "code",
   "execution_count": 17,
   "metadata": {
    "collapsed": false
   },
   "outputs": [],
   "source": [
    "my_2013_whole_data = list(map(lambda date: (date[0], \\\n",
    "                list(map(lambda x: (station_dic[x[0][0:2]],x[0],x[1],x[2]), date[1]))), my_2013_data))"
   ]
  },
  {
   "cell_type": "code",
   "execution_count": 18,
   "metadata": {
    "collapsed": true
   },
   "outputs": [],
   "source": [
    "my_2013_station_data = list(map(lambda date: (date[0], \\\n",
    "                    list(map(lambda x: (x[0],x[2]), date[1]))), my_2013_whole_data))\n",
    "\n",
    "my_2013_station_data = list(map(lambda date: (date[0], \\\n",
    "                list(map(lambda x: (x[0], list(filter(lambda z:z!=0, map(lambda y: y[1], x[1])))), \\\n",
    "                         itertools.groupby(sorted(date[1], key=lambda x:x[0]), \\\n",
    "                                lambda x:x[0])))), my_2013_station_data))"
   ]
  },
  {
   "cell_type": "code",
   "execution_count": null,
   "metadata": {
    "collapsed": true
   },
   "outputs": [],
   "source": []
  },
  {
   "cell_type": "code",
   "execution_count": null,
   "metadata": {
    "collapsed": true
   },
   "outputs": [],
   "source": []
  },
  {
   "cell_type": "code",
   "execution_count": null,
   "metadata": {
    "collapsed": true
   },
   "outputs": [],
   "source": []
  },
  {
   "cell_type": "markdown",
   "metadata": {},
   "source": [
    "<h2>Step 2. Data Analysis</h2>\n",
    "<h3>Q1. Which station has the most number of units as of today? "
   ]
  },
  {
   "cell_type": "code",
   "execution_count": 19,
   "metadata": {
    "collapsed": false
   },
   "outputs": [
    {
     "name": "stdout",
     "output_type": "stream",
     "text": [
      "The following is the station that has the most number of units:\n",
      " 34 ST-PENN STA\n",
      "The corresponding number is:\n",
      " 13\n"
     ]
    }
   ],
   "source": [
    "station_unit_list = list(map(lambda x: (station_dic[x], x), unique_unit))\n",
    "\n",
    "station_unit_number = list(map(lambda x: (x[0], len(list(map(lambda y: y[1], x[1])))), \\\n",
    "    itertools.groupby(sorted(station_unit_list, key=lambda x: x[0]), lambda x: x[0])))\n",
    "\n",
    "station_unit_max_number = max(list(map(lambda x:x[1], station_unit_number)))\n",
    "station_unit_max = list(filter(lambda x: x[1]==station_unit_max_number, station_unit_number))\n",
    "\n",
    "print('The following is the station that has the most number of units:\\n', station_unit_max[0][0])\n",
    "print('The corresponding number is:\\n', station_unit_max_number)"
   ]
  },
  {
   "cell_type": "code",
   "execution_count": null,
   "metadata": {
    "collapsed": true
   },
   "outputs": [],
   "source": []
  },
  {
   "cell_type": "markdown",
   "metadata": {},
   "source": [
    "<h3>Q2. What is the total number of entries & exits across the subway system for August 1, 2013?"
   ]
  },
  {
   "cell_type": "code",
   "execution_count": 20,
   "metadata": {
    "collapsed": true
   },
   "outputs": [],
   "source": [
    "date = datetime(2013,8,1)\n",
    "turnstile_data = list(filter(lambda x: x[0]==date, my_2013_data))\n",
    "station_data = list(filter(lambda x: x[0]==date, my_2013_station_data))"
   ]
  },
  {
   "cell_type": "code",
   "execution_count": 21,
   "metadata": {
    "collapsed": false
   },
   "outputs": [
    {
     "name": "stdout",
     "output_type": "stream",
     "text": [
      "The total number of entries & exits for 08/01/2013 is: 8991894\n"
     ]
    }
   ],
   "source": [
    "#Use MapReduce to calculate the total number of the entries & exits\n",
    "#Every count comes with a time, so I basically counted the number of the time format (hh:mm:ss)\n",
    "\n",
    "ans = reduce(lambda x,y: x+y , map(lambda x: x[1], turnstile_data[0][1]))\n",
    "print('The total number of entries & exits for 08/01/2013 is:', ans)"
   ]
  },
  {
   "cell_type": "code",
   "execution_count": null,
   "metadata": {
    "collapsed": true
   },
   "outputs": [],
   "source": []
  },
  {
   "cell_type": "markdown",
   "metadata": {},
   "source": [
    "<h3>Q3. Let’s define the busy-ness as sum of entry & exit count. What station was the busiest on August 1, 2013? What turnstile was the busiest on that date?"
   ]
  },
  {
   "cell_type": "code",
   "execution_count": 22,
   "metadata": {
    "collapsed": false
   },
   "outputs": [
    {
     "name": "stdout",
     "output_type": "stream",
     "text": [
      "The busiest station was: 34 ST-PENN STA\n",
      "The corresponding entry & exit count was: 305932\n"
     ]
    }
   ],
   "source": [
    "station_count = list(map(lambda x: (x[0], sum(x[1])), station_data[0][1]))\n",
    "\n",
    "station_max = max(list(map(lambda x: x[1], station_count)))\n",
    "ans = list(filter(lambda x: x[1]==station_max, station_count))[0][0]\n",
    "\n",
    "print('The busiest station was:', ans)\n",
    "print('The corresponding entry & exit count was:', station_max)"
   ]
  },
  {
   "cell_type": "code",
   "execution_count": 23,
   "metadata": {
    "collapsed": false
   },
   "outputs": [
    {
     "name": "stdout",
     "output_type": "stream",
     "text": [
      "The busiest turnstile was: ('N063A', 'R011', '00-00-00')\n",
      "The corresponding entry & exit count was: 10546\n"
     ]
    }
   ],
   "source": [
    "turnstile_max = max(list(map(lambda x: x[1], turnstile_data[0][1])))\n",
    "ans = list(filter(lambda x: x[1]==turnstile_max, turnstile_data[0][1]))[0][0]\n",
    "\n",
    "print('The busiest turnstile was:', ans)\n",
    "print('The corresponding entry & exit count was:', turnstile_max)"
   ]
  },
  {
   "cell_type": "code",
   "execution_count": null,
   "metadata": {
    "collapsed": true
   },
   "outputs": [],
   "source": []
  },
  {
   "cell_type": "markdown",
   "metadata": {},
   "source": [
    "<h3>Q4. What stations have seen the most usage growth/decline in 2013? </h3>\n",
    "<br>In this example, we define:\n",
    "<br>For each station, their usage growth is:\n",
    "<br>Usage of 12/31/2013 - Usage of 01/01/2013\n",
    "<br><br>According to our assumption in step 0, if there is no record for a certain station on a certain day, then the corresponding count will be zero."
   ]
  },
  {
   "cell_type": "code",
   "execution_count": 24,
   "metadata": {
    "collapsed": false
   },
   "outputs": [],
   "source": [
    "usage_record = list(map(lambda x: [x], unique_station))"
   ]
  },
  {
   "cell_type": "code",
   "execution_count": 25,
   "metadata": {
    "collapsed": true
   },
   "outputs": [],
   "source": [
    "start_date = datetime(2013,1,1)\n",
    "\n",
    "end_date = datetime(2013,12,31)"
   ]
  },
  {
   "cell_type": "code",
   "execution_count": 26,
   "metadata": {
    "collapsed": false
   },
   "outputs": [],
   "source": [
    "station_count_temp = list(map(lambda x: (x[0], sum(x[1])), \\\n",
    "                list(filter(lambda x: x[0]==start_date, my_2013_station_data))[0][1]))\n",
    "station_list_temp = list(map(lambda x: x[0], station_count_temp))\n",
    "\n",
    "for i in usage_record:\n",
    "    if i[0] in station_list_temp:\n",
    "        value_to_add = list(filter(lambda x: x[0]==i[0], station_count_temp)) \n",
    "        i.append(value_to_add[0][1])\n",
    "    else: i.append(0)\n",
    "\n",
    "station_count_temp = list(map(lambda x: (x[0], sum(x[1])), \\\n",
    "                list(filter(lambda x: x[0]==end_date, my_2013_station_data))[0][1]))\n",
    "station_list_temp = list(map(lambda x: x[0], station_count_temp))\n",
    "\n",
    "for i in usage_record:\n",
    "    if i[0] in station_list_temp:\n",
    "        value_to_add = list(filter(lambda x: x[0]==i[0], station_count_temp)) \n",
    "        i.append(value_to_add[0][1])\n",
    "    else: i.append(0)"
   ]
  },
  {
   "cell_type": "code",
   "execution_count": 27,
   "metadata": {
    "collapsed": true
   },
   "outputs": [],
   "source": [
    "usage_growth = list(map(lambda x: x[2]-x[1], usage_record))\n",
    "ans1 = list(filter(lambda x: x[2]-x[1]==max(usage_growth), usage_record))\n",
    "ans2 = list(filter(lambda x: x[2]-x[1]==min(usage_growth), usage_record))"
   ]
  },
  {
   "cell_type": "code",
   "execution_count": 28,
   "metadata": {
    "collapsed": false
   },
   "outputs": [
    {
     "name": "stdout",
     "output_type": "stream",
     "text": [
      "The most usage growth is: 34 ST-PENN STA, rised from 128109 to 268934\n",
      "The most usage decline is: CASTLE HILL AVE, droped from 4673 to 0\n"
     ]
    }
   ],
   "source": [
    "print('The most usage growth is: %s, rised from %s to %s' \\\n",
    "                  %(ans1[0][0],ans1[0][1],ans1[0][2]))\n",
    "print('The most usage decline is: %s, droped from %s to %s' \\\n",
    "                  %(ans2[0][0],ans2[0][1],ans2[0][2]))"
   ]
  },
  {
   "cell_type": "code",
   "execution_count": null,
   "metadata": {
    "collapsed": true
   },
   "outputs": [],
   "source": []
  },
  {
   "cell_type": "markdown",
   "metadata": {},
   "source": [
    "<h3>Q5. What dates in 2013 are the least busy? Could you identify days in 2013 on which stations were not operating at full capacity or closed entirely?"
   ]
  },
  {
   "cell_type": "code",
   "execution_count": 29,
   "metadata": {
    "collapsed": false
   },
   "outputs": [
    {
     "name": "stdout",
     "output_type": "stream",
     "text": [
      "The least busy date in 2013 is: 2013-12-25\n",
      "The corresponding entry & exit count is: 2997688\n"
     ]
    }
   ],
   "source": [
    "my_2013_count = list(map(lambda date: (date[0], \\\n",
    "                sum(list(map(lambda x:sum(x[1]), date[1])))), my_2013_station_data))\n",
    "\n",
    "my_2013_count_min = min(list(map(lambda date: date[1], my_2013_count)))\n",
    "\n",
    "ans = list(filter(lambda date: date[1]==my_2013_count_min, my_2013_count))[0][0]\n",
    "\n",
    "print('The least busy date in 2013 is:', str(ans)[0:10])\n",
    "print('The corresponding entry & exit count is:', my_2013_count_min)"
   ]
  },
  {
   "cell_type": "code",
   "execution_count": null,
   "metadata": {
    "collapsed": true
   },
   "outputs": [],
   "source": []
  },
  {
   "cell_type": "code",
   "execution_count": 30,
   "metadata": {
    "collapsed": true
   },
   "outputs": [],
   "source": [
    "station_turnstile_count_dic = dict()\n",
    "for x in station_turnstile_list:\n",
    "    station_turnstile_count_dic[x[0]] = len(x[1])"
   ]
  },
  {
   "cell_type": "code",
   "execution_count": 31,
   "metadata": {
    "collapsed": false
   },
   "outputs": [],
   "source": [
    "not_full_2013 = list()\n",
    "closed_2013 = list()\n",
    "\n",
    "for date in date_2013:    \n",
    "    station_count_temp = list(map(lambda x: (x[0], len(x[1])), \\\n",
    "                list(filter(lambda x: x[0]==date, my_2013_station_data))[0][1]))\n",
    "    station_list_temp = list(map(lambda x: x[0], station_count_temp))\n",
    "\n",
    "    #Fill the missing stations\n",
    "    stations_to_add = [x for x in unique_station if x not in station_list_temp]\n",
    "    for i in stations_to_add:\n",
    "        station_count_temp.append((i, 0))\n",
    "\n",
    "    station_count_temp = list(map(lambda x: (x[0], x[1], \\\n",
    "                            station_turnstile_count_dic[x[0]]), station_count_temp))\n",
    "\n",
    "    closed_2013.append([date, list(filter(lambda x: x[1]==0, station_count_temp))])\n",
    "\n",
    "    not_full_2013.append([date, list(filter(lambda x: (x[1]!=0) and (x[1]<x[2]), station_count_temp))])"
   ]
  },
  {
   "cell_type": "code",
   "execution_count": null,
   "metadata": {
    "collapsed": true
   },
   "outputs": [],
   "source": []
  },
  {
   "cell_type": "markdown",
   "metadata": {},
   "source": [
    "The 'not_full_2013' is the list that stores the stations which are not fully operating in 2013.\n",
    "<br>Every day, there are around 150 stations that are not fully operating; therefore, I only show a subset of it, as followed:\n",
    "<br>\n",
    "<br>Values' explanation:\n",
    "<br>(station name, number of turnstiles that are operating, total number of turnstiles)"
   ]
  },
  {
   "cell_type": "code",
   "execution_count": 32,
   "metadata": {
    "collapsed": false
   },
   "outputs": [
    {
     "data": {
      "text/plain": [
       "[datetime.datetime(2013, 1, 1, 0, 0),\n",
       " [('110 ST-CPN', 5, 6),\n",
       "  ('116 ST', 22, 23),\n",
       "  ('125 ST', 38, 46),\n",
       "  ('135 ST', 18, 23),\n",
       "  ('14 ST-UNION SQ', 37, 39),\n",
       "  ('149 ST-3 AVE', 13, 15),\n",
       "  ('149 ST-GR CONC', 6, 8),\n",
       "  ('14TH STREET', 10, 11),\n",
       "  ('15 ST-PROSPECT', 8, 10),\n",
       "  ('161 ST-YANKEE', 18, 38)]]"
      ]
     },
     "execution_count": 32,
     "metadata": {},
     "output_type": "execute_result"
    }
   ],
   "source": [
    "[not_full_2013[0][0],not_full_2013[0][1][0:10]]"
   ]
  },
  {
   "cell_type": "code",
   "execution_count": null,
   "metadata": {
    "collapsed": true
   },
   "outputs": [],
   "source": []
  },
  {
   "cell_type": "markdown",
   "metadata": {},
   "source": [
    "The 'closed_2013' is the list that stores the stations which are closed in 2013.\n",
    "<br>Bellow is the first element - the stations that closed on 2013-1-1\n",
    "<br>\n",
    "<br>Values' explanation:\n",
    "<br>(station name, number of turnstiles that are operating, total number of turnstiles)"
   ]
  },
  {
   "cell_type": "code",
   "execution_count": 33,
   "metadata": {
    "collapsed": false
   },
   "outputs": [
    {
     "data": {
      "text/plain": [
       "[datetime.datetime(2013, 1, 1, 0, 0),\n",
       " [('57 ST', 0, 12),\n",
       "  ('5 AVE-53 ST', 0, 22),\n",
       "  ('AQUEDUCT TRACK', 0, 6),\n",
       "  ('BEACH 105 ST', 0, 5),\n",
       "  ('BEACH 98 ST', 0, 5),\n",
       "  ('BROAD CHANNEL', 0, 3),\n",
       "  ('FOREST AVE', 0, 3),\n",
       "  ('KNICKERBOCKER', 0, 4),\n",
       "  ('LGA AIRPORT CTB', 0, 7),\n",
       "  ('ORCHARD BEACH', 0, 5),\n",
       "  ('ROCKAWAY PK 116', 0, 5),\n",
       "  ('SMITH-9 ST', 0, 7),\n",
       "  ('SOUTH FERRY', 0, 15)]]"
      ]
     },
     "execution_count": 33,
     "metadata": {},
     "output_type": "execute_result"
    }
   ],
   "source": [
    "closed_2013[0]"
   ]
  },
  {
   "cell_type": "code",
   "execution_count": null,
   "metadata": {
    "collapsed": true
   },
   "outputs": [],
   "source": []
  },
  {
   "cell_type": "code",
   "execution_count": null,
   "metadata": {
    "collapsed": true
   },
   "outputs": [],
   "source": []
  },
  {
   "cell_type": "code",
   "execution_count": null,
   "metadata": {
    "collapsed": true
   },
   "outputs": [],
   "source": []
  },
  {
   "cell_type": "markdown",
   "metadata": {
    "collapsed": true
   },
   "source": [
    "<h2>Step 3. Visualization</h2>\n",
    "<h3>Q1. Plot the daily row counts for data files in Q3 2013.</h3>\n",
    "<br>We define Q3 2013 as from July 1st to September 30th"
   ]
  },
  {
   "cell_type": "code",
   "execution_count": 34,
   "metadata": {
    "collapsed": false
   },
   "outputs": [],
   "source": [
    "my_2013Q3_data = list(filter(lambda date: (date[0]>=date_2013_Q3[0])\\\n",
    "                             and(date[0]<=date_2013_Q3[-1]),my_2013_data))\n",
    "\n",
    "my_2013Q3_row = list(map(lambda date: (date[0], \\\n",
    "                        sum(list(map(lambda x: x[2], date[1])))), my_2013Q3_data))"
   ]
  },
  {
   "cell_type": "code",
   "execution_count": 35,
   "metadata": {
    "collapsed": false
   },
   "outputs": [
    {
     "data": {
      "image/png": "[encoded data removed]",
      "text/plain": [
       "<matplotlib.figure.Figure at 0x113ebef60>"
      ]
     },
     "metadata": {},
     "output_type": "display_data"
    }
   ],
   "source": [
    "x = list(map(lambda x:x[0], my_2013Q3_row))\n",
    "y = list(map(lambda x:x[1], my_2013Q3_row))\n",
    "data = pd.DataFrame(y,x)\n",
    "\n",
    "plt.figure(figsize=(8,4))\n",
    "plt.plot(data[0])\n",
    "plt.title(\"Daily Row Counts in Q3 2013\")\n",
    "plt.ylabel(\"Counts of Rows\")\n",
    "plt.xlabel(\"Date\")\n",
    "plt.show()"
   ]
  },
  {
   "cell_type": "code",
   "execution_count": null,
   "metadata": {
    "collapsed": true
   },
   "outputs": [],
   "source": []
  },
  {
   "cell_type": "markdown",
   "metadata": {
    "collapsed": true
   },
   "source": [
    "<h3>Q2. Plot the daily total number of entries & exits across the system for Q3 2013."
   ]
  },
  {
   "cell_type": "code",
   "execution_count": 36,
   "metadata": {
    "collapsed": false
   },
   "outputs": [],
   "source": [
    "my_2013Q3_count = list(map(lambda date: (date[0], \\\n",
    "                        sum(list(map(lambda x: x[1], date[1])))), my_2013Q3_data))"
   ]
  },
  {
   "cell_type": "code",
   "execution_count": 37,
   "metadata": {
    "collapsed": false
   },
   "outputs": [
    {
     "data": {
      "image/png": "[encoded data removed]",
      "text/plain": [
       "<matplotlib.figure.Figure at 0x11873bf28>"
      ]
     },
     "metadata": {},
     "output_type": "display_data"
    }
   ],
   "source": [
    "x = list(map(lambda x:x[0], my_2013Q3_count))\n",
    "y = list(map(lambda x:x[1], my_2013Q3_count))\n",
    "data = pd.DataFrame(y,x)\n",
    "\n",
    "plt.figure(figsize=(8,4))\n",
    "plt.plot(data[0])\n",
    "plt.title(\"Daily Counts of Entries & Exits in Q3 2013\")\n",
    "plt.ylabel(\"Counts\")\n",
    "plt.xlabel(\"Date\")\n",
    "plt.show()"
   ]
  },
  {
   "cell_type": "code",
   "execution_count": null,
   "metadata": {
    "collapsed": true
   },
   "outputs": [],
   "source": []
  },
  {
   "cell_type": "markdown",
   "metadata": {
    "collapsed": true
   },
   "source": [
    "<h3>Q3. Plot the mean and standard deviation of the daily total number of entries & exits for each month in Q3 2013 for station 34 ST-PENN STA."
   ]
  },
  {
   "cell_type": "code",
   "execution_count": 38,
   "metadata": {
    "collapsed": false
   },
   "outputs": [],
   "source": [
    "my_2013Q3_station_data = list(filter(lambda date: (date[0]>=date_2013_Q3[0])\\\n",
    "                             and(date[0]<=date_2013_Q3[-1]),my_2013_station_data))\n",
    "\n",
    "my_2013Q3_PENN_count = list(map(lambda date:( date[0],\\\n",
    "                list(map(lambda y: sum(y[1]),\\\n",
    "                filter(lambda x: x[0]=='34 ST-PENN STA', date[1])))[0]), my_2013Q3_station_data))\n",
    "\n",
    "date_2013M7 = date_2013_Q3[0:31]\n",
    "date_2013M8 = date_2013_Q3[31:62]\n",
    "date_2013M9 = date_2013_Q3[62:]\n",
    "\n",
    "my_2013M7_PENN = list(map(lambda y: y[1], filter(lambda x: x[0] \\\n",
    "                                                 in date_2013M7, my_2013Q3_PENN_count)))\n",
    "my_2013M8_PENN = list(map(lambda y: y[1], filter(lambda x: x[0] \\\n",
    "                                                 in date_2013M8, my_2013Q3_PENN_count)))\n",
    "my_2013M9_PENN = list(map(lambda y: y[1], filter(lambda x: x[0] \\\n",
    "                                                 in date_2013M9, my_2013Q3_PENN_count)))"
   ]
  },
  {
   "cell_type": "code",
   "execution_count": 39,
   "metadata": {
    "collapsed": false
   },
   "outputs": [
    {
     "data": {
      "image/png": "[encoded data removed]",
      "text/plain": [
       "<matplotlib.figure.Figure at 0x1192ac320>"
      ]
     },
     "metadata": {},
     "output_type": "display_data"
    }
   ],
   "source": [
    "x = np.array(list(zip(my_2013M7_PENN, my_2013M8_PENN, my_2013M9_PENN)))\n",
    "\n",
    "mins = x.min(0)\n",
    "maxes = x.max(0)\n",
    "means = x.mean(0)\n",
    "std = x.std(0)\n",
    "\n",
    "pct_25 = np.percentile(x, 25, axis=0)\n",
    "pct_50= np.percentile(x, 50, axis=0)\n",
    "pct_75 = np.percentile(x, 75, axis=0)\n",
    "\n",
    "plt.errorbar(np.arange(3), means, std, fmt='ob',ecolor='gray', lw=2)\n",
    "plt.title('Mean & Standard Deviation Plot for 34 ST-PENN STA (Q3 2013)')\n",
    "plt.xlim(-1, 3)\n",
    "plt.xticks(np.arange(3), ['Jul','Aug','Sept'])\n",
    "plt.show()"
   ]
  },
  {
   "cell_type": "code",
   "execution_count": null,
   "metadata": {
    "collapsed": true
   },
   "outputs": [],
   "source": []
  },
  {
   "cell_type": "markdown",
   "metadata": {
    "collapsed": true
   },
   "source": [
    "<h3>Q4. Plot 25/50/75 percentile of the daily total number of entries & exits for each month in Q3 2013 for station 34 ST-PENN STA."
   ]
  },
  {
   "cell_type": "code",
   "execution_count": 43,
   "metadata": {
    "collapsed": false
   },
   "outputs": [
    {
     "data": {
      "image/png": "[encoded data removed]",
      "text/plain": [
       "<matplotlib.figure.Figure at 0x10db43748>"
      ]
     },
     "metadata": {},
     "output_type": "display_data"
    }
   ],
   "source": [
    "data=pylab.array([pylab.array(my_2013M7_PENN), pylab.array(my_2013M8_PENN), pylab.array(my_2013M9_PENN)])\n",
    "pylab.boxplot(data)\n",
    "pylab.title('25/50/75 Percentile Plot for 34 ST-PENN STA (Q3 2013)')\n",
    "pylab.xticks([1,2,3], ['Jul','Aug','Sept'])\n",
    "pylab.show()"
   ]
  },
  {
   "cell_type": "code",
   "execution_count": null,
   "metadata": {
    "collapsed": true
   },
   "outputs": [],
   "source": []
  },
  {
   "cell_type": "markdown",
   "metadata": {
    "collapsed": true
   },
   "source": [
    "<h3>Q5. Plot the daily number of closed stations and number of stations that were not operating at full capacity in Q3 2013."
   ]
  },
  {
   "cell_type": "code",
   "execution_count": 44,
   "metadata": {
    "collapsed": true
   },
   "outputs": [],
   "source": [
    "closed_2013Q3 = list(filter(lambda x:x[0] in date_2013_Q3, closed_2013))\n",
    "\n",
    "closed_2013Q3_count = list(map(lambda x: (x[0], len(x[1])), closed_2013Q3))\n",
    "\n",
    "not_full_2013Q3 = list(filter(lambda x:x[0] in date_2013_Q3, not_full_2013))\n",
    "\n",
    "not_full_2013Q3_count = list(map(lambda x: (x[0], len(x[1])), not_full_2013Q3))"
   ]
  },
  {
   "cell_type": "code",
   "execution_count": 45,
   "metadata": {
    "collapsed": false
   },
   "outputs": [
    {
     "data": {
      "image/png": "[encoded data removed]",
      "text/plain": [
       "<matplotlib.figure.Figure at 0x11b4df668>"
      ]
     },
     "metadata": {},
     "output_type": "display_data"
    }
   ],
   "source": [
    "x = list(map(lambda x:x[0], closed_2013Q3_count))\n",
    "y1 = list(map(lambda x:x[1], closed_2013Q3_count))\n",
    "y2 = list(map(lambda x:x[1], not_full_2013Q3_count))\n",
    "data1 = pd.DataFrame(y1,x)\n",
    "data2 = pd.DataFrame(y2,x)\n",
    "\n",
    "plt.figure(figsize=(8,4))\n",
    "plt.plot(data1[0], label='Closed')\n",
    "plt.plot(data2[0], label='Under Operating')\n",
    "plt.title(\"Daily Counts of Closed and Under Operating Stations in Q3 2013\")\n",
    "plt.ylabel(\"Counts\")\n",
    "plt.xlabel(\"Date\")\n",
    "plt.legend()\n",
    "plt.show()"
   ]
  },
  {
   "cell_type": "code",
   "execution_count": null,
   "metadata": {
    "collapsed": true
   },
   "outputs": [],
   "source": []
  }
 ],
 "metadata": {
  "anaconda-cloud": {},
  "kernelspec": {
   "display_name": "Python [conda env:py35]",
   "language": "python",
   "name": "conda-env-py35-py"
  },
  "language_info": {
   "codemirror_mode": {
    "name": "ipython",
    "version": 3
   },
   "file_extension": ".py",
   "mimetype": "text/x-python",
   "name": "python",
   "nbconvert_exporter": "python",
   "pygments_lexer": "ipython3",
   "version": "3.5.2"
  }
 },
 "nbformat": 4,
 "nbformat_minor": 1
}
