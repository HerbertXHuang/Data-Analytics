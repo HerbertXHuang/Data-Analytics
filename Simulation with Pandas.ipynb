{
 "cells": [
  {
   "cell_type": "markdown",
   "metadata": {},
   "source": [
    "<h1> Pandas Simulation: An Inventory Problem</h1>\n",
    "<br>\n",
    "Jack & Jill sell t-shirts from a street stall on the upper east side.  Given the data below:\n",
    "<ol>\n",
    "<li> write a function run_one() that generates a 30 day profit array for Jack and Jill\n",
    "<li> generate a 1000 X 30 dataframe that contains the 30 day profit arrays from 1000 simulation runs\n",
    "<li> generate a 1000 X 30 dataframe that contains cumulative profits for each run\n",
    "<li> report the following using these two data frames:\n",
    "<ol>\n",
    "<li> the mean and the standard deviation of the average daily profit from all runs\n",
    "<li> the mean and the standard deviation of the cumulative 30 day profit across all runs\n",
    "<li> the mean and the standard deviation of the lowest profit (greatest loss) from each run\n",
    "<li> the mean and the standard deviation of the highest profit from each run\n",
    "<li> the average cumulative profit for each day across runs (i.e., the average of the two day cumulative profit, average of the three day cumulative profit, etc.\n",
    "<li> a line graph of the average cumulative profits for each day with day on the x-axis and average profit on the y-axis\n",
    "</ol>\n",
    "</ol>"
   ]
  },
  {
   "cell_type": "code",
   "execution_count": 1,
   "metadata": {
    "collapsed": true
   },
   "outputs": [],
   "source": [
    "unit_cost = 2 #What Jack and Jill pay a Shenzen based company for each t-shirt\n",
    "unit_price = 5 #The selling price of each t-shirt\n",
    "unit_storage_cost = 0.10  #The daily cost of storing one t-shirt overnight in inventory\n",
    "shipping_days_mean = 5 #The average number of days it takes a shipment to arrive from Shenzen\n",
    "shipping_days_std =2.2 #The standard deviation of shipping days. Assume normal distribution\n",
    "sales_mean = 1000 #The average number of shirts sold on a given day\n",
    "sales_std = 523 #The standard deviation of daily sales. Assume normal distribution\n",
    "inventory = 5001 #The starting inventory\n",
    "reorder_level = 5000 #The level at or below which Jack and Jill will place an order. \n",
    "order_qty = 5000 #The amount of an order. Note that when ordering, they will look at the inventory level plus \n",
    "#the amount ordered but not yet delivered"
   ]
  },
  {
   "cell_type": "markdown",
   "metadata": {},
   "source": [
    "<h2>Define the run_one() function"
   ]
  },
  {
   "cell_type": "code",
   "execution_count": 2,
   "metadata": {
    "collapsed": false
   },
   "outputs": [],
   "source": [
    "import numpy as np\n",
    "from pandas import Series, DataFrame\n",
    "import pandas as pd\n",
    "from pandas_datareader import data\n",
    "%matplotlib inline\n",
    "import numpy as np\n",
    "import matplotlib.pyplot as plt\n",
    "import matplotlib as mp\n",
    "import datetime as dt\n",
    "\n",
    "def non_negative_randint(mean,std,size):\n",
    "    ran_list=np.random.normal(mean,std,size)\n",
    "    ran_list=np.where(ran_list>=0,ran_list,0)\n",
    "    ran_int=[]\n",
    "    for j in ran_list:\n",
    "        ran_int.append(int(j))\n",
    "    return ran_int\n",
    "\n",
    "def run_one():\n",
    "    unit_cost = 2\n",
    "    unit_price = 5 \n",
    "    unit_storage_cost = 0.10\n",
    "    shipping_days_mean = 5\n",
    "    shipping_days_std =2.2\n",
    "    sales_mean = 1000\n",
    "    sales_std = 523\n",
    "    inventory = 5001\n",
    "    reorder_level = 5000\n",
    "    order_qty = 5000  \n",
    "    \n",
    "    m=30\n",
    "    daily_profit=[]\n",
    "    daily_delivery=[0]*30\n",
    "    \n",
    "    delivery_days=non_negative_randint(shipping_days_mean,shipping_days_std,m)\n",
    "    daily_demand=non_negative_randint(sales_mean,sales_std,m)\n",
    "    order_status=0\n",
    "    \n",
    "    for i in range(m):\n",
    "        \n",
    "        sales=np.array([daily_demand[i],inventory]).min()\n",
    "        \n",
    "        inventory=inventory-sales\n",
    "        \n",
    "        if (inventory<=reorder_level)&((i+delivery_days[i])<m)&(order_status==0):\n",
    "            daily_delivery[i+delivery_days[i]]=daily_delivery[i+delivery_days[i]]+order_qty\n",
    "            order_status=1\n",
    "            \n",
    "        if daily_delivery[i]!=0:   \n",
    "            inventory=inventory+daily_delivery[i]\n",
    "            order_status=0\n",
    "            \n",
    "        daily_profit.append(sales*unit_price-daily_delivery[i]*unit_cost-inventory*unit_storage_cost)\n",
    "\n",
    "    return daily_profit  "
   ]
  },
  {
   "cell_type": "markdown",
   "metadata": {},
   "source": [
    "<h2>Generate dataframes"
   ]
  },
  {
   "cell_type": "code",
   "execution_count": 3,
   "metadata": {
    "collapsed": false
   },
   "outputs": [],
   "source": [
    "#generate a 1000 X 30 dataframe that contains the 30 day profit arrays from 1000 simulation runs\n",
    "data={}\n",
    "for n in range(1000):\n",
    "    data[n]=np.array(run_one())\n",
    "profit_dataframe=DataFrame(data).transpose()\n",
    "\n",
    "#generate a 1000 X 30 dataframe that contains cumulative profits for each run\n",
    "data=np.array([])\n",
    "data=np.array(profit_dataframe.transpose().values[0])\n",
    "data=np.vstack((data,data+profit_dataframe.transpose().values[1]))\n",
    "for i in range(28):\n",
    "    data=np.vstack((data,data[i+1]+profit_dataframe.transpose().values[i+2]))\n",
    "cum_daily_dataframe=DataFrame(data).transpose()"
   ]
  },
  {
   "cell_type": "markdown",
   "metadata": {},
   "source": [
    "<h2>Use the dataframes to answer questions"
   ]
  },
  {
   "cell_type": "code",
   "execution_count": 4,
   "metadata": {
    "collapsed": false
   },
   "outputs": [
    {
     "name": "stdout",
     "output_type": "stream",
     "text": [
      "A. the mean and the standard deviation of the average daily profit from all runs: \n",
      " 2227.05015333 318.046136581 \n",
      "\n",
      "B. the mean and the standard deviation of the cumulative 30 day profit across all runs: \n",
      " 66811.5046 9541.38409743 \n",
      "\n",
      "C. the mean and the standard deviation of the lowest profit (greatest loss) from each run: \n",
      " -10352.5933 638.125940298 \n",
      "\n",
      "D. the mean and the standard deviation of the highest profit from each run \n",
      " 9604.6001 1320.96297095 \n",
      "\n",
      "E. the average cumulative profit for each day across runs: \n",
      " 0      4351.0578\n",
      "1      8376.2740\n",
      "2     12036.6958\n",
      "3     15066.3400\n",
      "4     16650.8896\n",
      "5     17441.5723\n",
      "6     19022.3716\n",
      "7     21368.7644\n",
      "8     23810.3516\n",
      "9     26110.0117\n",
      "10    28179.5688\n",
      "11    30296.0800\n",
      "12    32123.1642\n",
      "13    34234.9282\n",
      "14    36135.8832\n",
      "15    38248.4345\n",
      "16    40228.8810\n",
      "17    42599.3028\n",
      "18    44688.2865\n",
      "19    47207.4270\n",
      "20    49072.8440\n",
      "21    51278.9601\n",
      "22    53315.9929\n",
      "23    55492.9899\n",
      "24    57782.4221\n",
      "25    59700.1872\n",
      "26    61591.3972\n",
      "27    63241.7243\n",
      "28    65035.7754\n",
      "29    66811.5046\n",
      "dtype: float64 \n",
      "\n",
      "F. a line graph of the average cumulative prifits for each day: \n",
      " Axes(0.125,0.125;0.775x0.775)\n"
     ]
    },
    {
     "data": {
      "image/png": "[encoded data removed]",
      "text/plain": [
       "<matplotlib.figure.Figure at 0x1068a2ba8>"
      ]
     },
     "metadata": {},
     "output_type": "display_data"
    }
   ],
   "source": [
    "avg_daily=profit_dataframe.mean(axis=1)\n",
    "cum_30_day=cum_daily_dataframe[29]\n",
    "min_daily=profit_dataframe.min(axis=1)\n",
    "max_daily=profit_dataframe.max(axis=1)\n",
    "\n",
    "print('A. the mean and the standard deviation of the average daily profit from all runs:','\\n',avg_daily.mean(),avg_daily.std(),'\\n')\n",
    "\n",
    "print('B. the mean and the standard deviation of the cumulative 30 day profit across all runs:','\\n',cum_30_day.mean(),cum_30_day.std(),'\\n')\n",
    "\n",
    "print('C. the mean and the standard deviation of the lowest profit (greatest loss) from each run:','\\n',min_daily.mean(),min_daily.std(),'\\n')\n",
    "\n",
    "print('D. the mean and the standard deviation of the highest profit from each run','\\n',max_daily.mean(),max_daily.std(),'\\n')\n",
    "\n",
    "print('E. the average cumulative profit for each day across runs:','\\n',cum_daily_dataframe.mean(),'\\n')\n",
    "\n",
    "print('F. a line graph of the average cumulative prifits for each day:','\\n',cum_daily_dataframe.mean().plot())\n",
    "\n"
   ]
  }
 ],
 "metadata": {
  "anaconda-cloud": {},
  "kernelspec": {
   "display_name": "Python [conda env:py35]",
   "language": "python",
   "name": "conda-env-py35-py"
  },
  "language_info": {
   "codemirror_mode": {
    "name": "ipython",
    "version": 3
   },
   "file_extension": ".py",
   "mimetype": "text/x-python",
   "name": "python",
   "nbconvert_exporter": "python",
   "pygments_lexer": "ipython3",
   "version": "3.5.2"
  }
 },
 "nbformat": 4,
 "nbformat_minor": 0
}
