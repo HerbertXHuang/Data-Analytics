{
 "cells": [
  {
   "cell_type": "markdown",
   "metadata": {},
   "source": [
    "<h2>Google Sector Report</h2>\n",
    "<h4>This function crawls the google finance webpage and returns:</h4>\n",
    "<br>1. The sector name\n",
    "<br>2. The percentage change in that sector\n",
    "<br>3. The biggest gainer and its percentage change of that sector\n",
    "<br>4. The biggest loser and its percentage change of that sector"
   ]
  },
  {
   "cell_type": "code",
   "execution_count": 1,
   "metadata": {
    "collapsed": false
   },
   "outputs": [],
   "source": [
    "def google_sector_report():\n",
    "    import requests\n",
    "    from bs4 import BeautifulSoup\n",
    "    url='http://www.google.com/finance'\n",
    "    response=requests.get(url)\n",
    "    status='GOOD'\n",
    "    dic={}\n",
    "    \n",
    "    if response.status_code==200:\n",
    "        data_soup=BeautifulSoup(response.content,'lxml')\n",
    "        sector_list=data_soup.find_all('div',{'class':\"id-secperf sfe-section-major\"})\n",
    "        for tag in sector_list:\n",
    "            name_list=tag.find_all('a')\n",
    "            change_list=tag.find_all('span')\n",
    "\n",
    "        i=0  \n",
    "        for element in name_list:\n",
    "            url2='http://www.google.com'+element.get('href')\n",
    "            response=requests.get(url2)\n",
    "            if response.status_code!=200:\n",
    "                status='BAD'\n",
    "                break\n",
    "            data_soup2=BeautifulSoup(response.content,'lxml')\n",
    "            biggest_list=data_soup2.find('div', {'class':\"sfe-break-bottom\"})\n",
    "            tr_list=biggest_list.find_all('tr')\n",
    "\n",
    "            dic[element.get_text()]={}\n",
    "            dic[element.get_text()]['change']=change_list[i].get_text()\n",
    "            i=i+1\n",
    "\n",
    "            dic[element.get_text()]['biggest_gainer']={}\n",
    "            dic[element.get_text()]['biggest_loser']={}\n",
    "            \n",
    "            b_list=biggest_list.find_all('b')\n",
    "            b_list=[item.get_text() for item in b_list]\n",
    "            b_str=','.join(b_list)\n",
    "\n",
    "            if 'Gainers' in b_str:\n",
    "                dic[element.get_text()]['biggest_gainer']['change']=tr_list[1]('span')[1].get_text()[1:-1]\n",
    "                dic[element.get_text()]['biggest_gainer']['equity']=tr_list[1]('a')[0].get_text()\n",
    "                if 'Losers' in b_str:\n",
    "                    dic[element.get_text()]['biggest_loser']['change']=tr_list[7]('span')[1].get_text()[1:-1]\n",
    "                    dic[element.get_text()]['biggest_loser']['equity']=tr_list[7]('a')[0].get_text()\n",
    "            elif 'Gainers' not in b_str:\n",
    "                dic[element.get_text()]['biggest_gainer']['change']=None\n",
    "                dic[element.get_text()]['biggest_gainer']['equity']=\"\"\n",
    "                if 'Losers' in b_str:\n",
    "                    dic[element.get_text()]['biggest_loser']['change']=tr_list[1]('span')[1].get_text()[1:-1]\n",
    "                    dic[element.get_text()]['biggest_loser']['equity']=tr_list[1]('a')[0].get_text()\n",
    "            if 'Losers' not in b_str:\n",
    "                dic[element.get_text()]['biggest_loser']['change']=None\n",
    "                dic[element.get_text()]['biggest_loser']['equity']=\"\"\n",
    "                \n",
    "        import json\n",
    "        json_dic=json.dumps({'status':status,'result':dic}, sort_keys=True)\n",
    "        return json.loads(json_dic)\n",
    "    else:\n",
    "        status='BAD'\n",
    "        import json\n",
    "        json_dic=json.dumps({'status':status,'result':dic}, sort_keys=True)\n",
    "        return json.loads(json.dic)"
   ]
  },
  {
   "cell_type": "markdown",
   "metadata": {},
   "source": [
    "<h3>Let's run the function and see how it looks like</h3>"
   ]
  },
  {
   "cell_type": "code",
   "execution_count": 2,
   "metadata": {
    "collapsed": false
   },
   "outputs": [
    {
     "data": {
      "text/plain": [
       "{'result': {'Basic Materials': {'biggest_gainer': {'change': '13.19%',\n",
       "    'equity': 'FMC Corp'},\n",
       "   'biggest_loser': {'change': '-4.67%', 'equity': 'Synalloy Corporation'},\n",
       "   'change': '-0.07%'},\n",
       "  'Cyclical Cons. Goods ...': {'biggest_gainer': {'change': '10.08%',\n",
       "    'equity': 'Commercial Vehicle Group'},\n",
       "   'biggest_loser': {'change': '-6.83%', 'equity': 'Beasley Broadcast Group'},\n",
       "   'change': '-0.16%'},\n",
       "  'Energy': {'biggest_gainer': {'change': '8.53%',\n",
       "    'equity': 'Legacy Reserves LP'},\n",
       "   'biggest_loser': {'change': '-6.83%', 'equity': 'PHI Inc.'},\n",
       "   'change': '-0.04%'},\n",
       "  'Financials': {'biggest_gainer': {'change': '22.79%',\n",
       "    'equity': 'Fang Holdings Ltd'},\n",
       "   'biggest_loser': {'change': '-7.63%', 'equity': 'Oak Valley Bancorp'},\n",
       "   'change': '-0.37%'},\n",
       "  'Healthcare': {'biggest_gainer': {'change': '10.64%',\n",
       "    'equity': 'Sangamo Therapeutics Inc'},\n",
       "   'biggest_loser': {'change': '-21.50%', 'equity': 'Acorda Therapeutics Inc'},\n",
       "   'change': '-0.21%'},\n",
       "  'Industrials': {'biggest_gainer': {'change': '633.43%',\n",
       "    'equity': 'LML Payment Systems, Inc.'},\n",
       "   'biggest_loser': {'change': '-9.09%',\n",
       "    'equity': 'Great Lakes Dredge & Dock'},\n",
       "   'change': '-0.15%'},\n",
       "  'Non-Cyclical Cons. Goods...': {'biggest_gainer': {'change': None,\n",
       "    'equity': ''},\n",
       "   'biggest_loser': {'change': '-3.85%', 'equity': 'Rite Aid Corporation'},\n",
       "   'change': '+0.06%'},\n",
       "  'Technology': {'biggest_gainer': {'change': '11.51%',\n",
       "    'equity': 'BlackBerry Ltd'},\n",
       "   'biggest_loser': {'change': '-6.58%', 'equity': 'Glu Mobile Inc.'},\n",
       "   'change': '+0.06%'},\n",
       "  'Telecommunications Servi...': {'biggest_gainer': {'change': '3.13%',\n",
       "    'equity': 'ORBCOMM Inc'},\n",
       "   'biggest_loser': {'change': '-3.35%', 'equity': 'General Communication'},\n",
       "   'change': '-0.18%'},\n",
       "  'Utilities': {'biggest_gainer': {'change': '3.13%',\n",
       "    'equity': 'Cia Energetica de Minas'},\n",
       "   'biggest_loser': {'change': '-1.33%', 'equity': 'Pampa Energia S.A. (ADR)'},\n",
       "   'change': '+0.47%'}},\n",
       " 'status': 'GOOD'}"
      ]
     },
     "execution_count": 2,
     "metadata": {},
     "output_type": "execute_result"
    }
   ],
   "source": [
    "google_sector_report()"
   ]
  }
 ],
 "metadata": {
  "anaconda-cloud": {},
  "kernelspec": {
   "display_name": "Python [conda env:py35]",
   "language": "python",
   "name": "conda-env-py35-py"
  },
  "language_info": {
   "codemirror_mode": {
    "name": "ipython",
    "version": 3
   },
   "file_extension": ".py",
   "mimetype": "text/x-python",
   "name": "python",
   "nbconvert_exporter": "python",
   "pygments_lexer": "ipython3",
   "version": "3.5.2"
  }
 },
 "nbformat": 4,
 "nbformat_minor": 0
}
