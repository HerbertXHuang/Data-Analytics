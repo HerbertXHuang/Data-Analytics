{
 "cells": [
  {
   "cell_type": "code",
   "execution_count": 1,
   "metadata": {
    "collapsed": false,
    "scrolled": false
   },
   "outputs": [],
   "source": [
    "def get_geolocation_data(address_string, format, country='all', types=False): \n",
    "    address_string='_'.join(address_string.split(' '))\n",
    "    url=\"https://maps.googleapis.com/maps/api/geocode/%s?address=%s\" % (format.lower(),address_string)\n",
    "    import requests\n",
    "    response=requests.get(url)\n",
    "    if response.status_code==200:\n",
    "        \n",
    "        #when format=='json', restore the wanted data in x_list\n",
    "        if format.lower()=='json':  \n",
    "            json_data=response.json()\n",
    "            x_list=[]\n",
    "            if types==True:\n",
    "                for x in json_data['results']:\n",
    "                    types_list=[y for y in x['types']]\n",
    "                    x_list.insert(len(x_list),(x['formatted_address'],x['geometry']['location']['lat'],x['geometry']['location']['lng'],types_list))   \n",
    "            else:\n",
    "                x_list=[(x['formatted_address'],x['geometry']['location']['lat'],x['geometry']['location']['lng']) for x in json_data['results']]\n",
    "\n",
    "        #when format=='xml', restore the wanted data in x_list\n",
    "        elif format.lower()=='xml':\n",
    "            xml_data=response.content     \n",
    "            from lxml import etree\n",
    "            root=etree.XML(xml_data)   \n",
    "            x_list=[]\n",
    "            for y in root.iter('result'):\n",
    "                if types==True:\n",
    "                    types_list = [item.text for item in y.findall('type')]\n",
    "                    temporary_list=(y.find('formatted_address').text,y.find('geometry/location/lat').text,y.find('geometry/location/lng').text,types_list)\n",
    "                else:\n",
    "                    temporary_list=(y.find('formatted_address').text,y.find('geometry/location/lat').text,y.find('geometry/location/lng').text)\n",
    "                x_list.insert(len(x_list),(temporary_list))\n",
    "        \n",
    "        #according to the input values of country, restore the ultimate outpue in add_list\n",
    "        add_list=[]\n",
    "        if country.lower()=='all':\n",
    "                add_list=x_list\n",
    "        else:\n",
    "                for y in x_list:\n",
    "                    if country in y[0].split()[-1]:\n",
    "                        add_list.insert(len(add_list),y)\n",
    "        return add_list\n",
    "    \n",
    "    else:\n",
    "        return None\n"
   ]
  },
  {
   "cell_type": "code",
   "execution_count": 9,
   "metadata": {
    "collapsed": false
   },
   "outputs": [
    {
     "data": {
      "text/plain": [
       "[('Pok Fu Lam, Hong Kong', 22.2829989, 114.1370848)]"
      ]
     },
     "execution_count": 9,
     "metadata": {},
     "output_type": "execute_result"
    }
   ],
   "source": [
    "address_string='Hong Kong University'\n",
    "get_geolocation_data(address_string, format='json', country='all', types=False)"
   ]
  },
  {
   "cell_type": "code",
   "execution_count": null,
   "metadata": {
    "collapsed": true
   },
   "outputs": [],
   "source": []
  }
 ],
 "metadata": {
  "anaconda-cloud": {},
  "kernelspec": {
   "display_name": "Python [conda env:py35]",
   "language": "python",
   "name": "conda-env-py35-py"
  },
  "language_info": {
   "codemirror_mode": {
    "name": "ipython",
    "version": 3
   },
   "file_extension": ".py",
   "mimetype": "text/x-python",
   "name": "python",
   "nbconvert_exporter": "python",
   "pygments_lexer": "ipython3",
   "version": "3.5.2"
  }
 },
 "nbformat": 4,
 "nbformat_minor": 0
}
